{
 "cells": [
  {
   "cell_type": "markdown",
   "id": "50219346",
   "metadata": {},
   "source": [
    "# Week 1 – Demonstrate Your Learning (Student Challenge)"
   ]
  },
  {
   "cell_type": "markdown",
   "id": "7f510d37",
   "metadata": {},
   "source": [
    "\n",
    "🧭 **Goal**  \n",
    "Build a small, two-page mini-site that proves you can use **semantic HTML**, **accessible images and tables**, **links**, and **basic Git/GitHub workflow**.\n",
    "\n",
    "📦 **Create this folder structure in your repo:**\n",
    "```\n",
    "week1/\n",
    "  04-mini-site/\n",
    "    index.html\n",
    "    schedule.html\n",
    "    images/           (place any images/screenshots here)\n",
    "```\n"
   ]
  },
  {
   "cell_type": "markdown",
   "id": "c28207b0",
   "metadata": {},
   "source": [
    "\n",
    "## 🧱 Requirements Overview\n",
    "- **Semantic layout** on `index.html` using `header`, `nav`, `main`, `footer`  \n",
    "- A working **skip link** before the header: `<a href=\"#main\">Skip to content</a>`  \n",
    "- At least **two sections** on the homepage (e.g. About, Interests) with proper headings  \n",
    "- One **image** with **meaningful alt** text  \n",
    "- One **HTML comment** near the top explaining the page purpose  \n",
    "- A second page `schedule.html` with an **accessible table** using `<caption>`, `<thead>`, `<tbody>`, and **scope** attributes  \n",
    "- **Internal navigation** between pages and to sections (anchors)\n",
    "- Commit and push with **Conventional Commits**\n"
   ]
  },
  {
   "cell_type": "markdown",
   "id": "db387dd9",
   "metadata": {},
   "source": [
    "## 💻 Page 1 — `index.html` scaffold (copy this, then customise)"
   ]
  },
  {
   "cell_type": "markdown",
   "id": "ff8196fa",
   "metadata": {},
   "source": [
    "```html\n",
    "<!DOCTYPE html>\n",
    "<html lang=\"en\">\n",
    "<head>\n",
    "  <meta charset=\"UTF-8\">\n",
    "  <title>About Me</title>\n",
    "</head>\n",
    "<body>\n",
    "  <!-- This is the homepage of my mini-site -->\n",
    "  <a href=\"#main\" class=\"skip\">Skip to content</a>\n",
    "\n",
    "  <header>\n",
    "    <h1>About Me</h1>\n",
    "    <nav aria-label=\"Primary\">\n",
    "      <a href=\"index.html#about\">About</a> |\n",
    "      <a href=\"index.html#interests\">Interests</a> |\n",
    "      <a href=\"schedule.html\">Schedule</a>\n",
    "    </nav>\n",
    "  </header>\n",
    "\n",
    "  <main id=\"main\">\n",
    "    <section id=\"about\">\n",
    "      <h2>About</h2>\n",
    "      <p>Write a short paragraph about you.</p>\n",
    "      <figure>\n",
    "        <img src=\"images/me-or-placeholder.png\" alt=\"Describe the image content briefly\" width=\"300\">\n",
    "        <figcaption>A relevant image with descriptive alt text.</figcaption>\n",
    "      </figure>\n",
    "    </section>\n",
    "\n",
    "    <section id=\"interests\">\n",
    "      <h2>My Interests</h2>\n",
    "      <p>Write a short paragraph listing 2–3 interests and why.</p>\n",
    "    </section>\n",
    "  </main>\n",
    "\n",
    "  <footer>\n",
    "    <small>&copy; 2025 My Mini Site</small>\n",
    "  </footer>\n",
    "</body>\n",
    "</html>\n",
    "```"
   ]
  },
  {
   "cell_type": "markdown",
   "id": "5ceaa297",
   "metadata": {},
   "source": [
    "## 💻 Page 2 — `schedule.html` scaffold (copy this, then customise)"
   ]
  },
  {
   "cell_type": "markdown",
   "id": "5c6cf6c6",
   "metadata": {},
   "source": [
    "```html\n",
    "<!DOCTYPE html>\n",
    "<html lang=\"en\">\n",
    "<head>\n",
    "  <meta charset=\"UTF-8\">\n",
    "  <title>My Weekly Schedule</title>\n",
    "</head>\n",
    "<body>\n",
    "  <!-- This page shows my weekly schedule in an accessible table -->\n",
    "  <header>\n",
    "    <h1>My Weekly Schedule</h1>\n",
    "    <nav aria-label=\"Primary\">\n",
    "      <a href=\"index.html\">Home</a> |\n",
    "      <a href=\"schedule.html\">Schedule</a>\n",
    "    </nav>\n",
    "  </header>\n",
    "\n",
    "  <main id=\"main\">\n",
    "    <h2>Subjects and teachers by day</h2>\n",
    "\n",
    "    <table>\n",
    "      <caption>Subjects and teachers by day</caption>\n",
    "      <thead>\n",
    "        <tr>\n",
    "          <th scope=\"col\">Day</th>\n",
    "          <th scope=\"col\">Subject</th>\n",
    "          <th scope=\"col\">Teacher</th>\n",
    "          <th scope=\"col\">Notes</th>\n",
    "        </tr>\n",
    "      </thead>\n",
    "      <tbody>\n",
    "        <tr>\n",
    "          <th scope=\"row\">Mon</th>\n",
    "          <td>Software Engineering</td>\n",
    "          <td>Mr Lee</td>\n",
    "          <td>Topic</td>\n",
    "        </tr>\n",
    "        <tr>\n",
    "          <th scope=\"row\">Tue</th>\n",
    "          <td>Mathematics Advanced</td>\n",
    "          <td>Ms Patel</td>\n",
    "          <td>Homework</td>\n",
    "        </tr>\n",
    "      </tbody>\n",
    "    </table>\n",
    "  </main>\n",
    "\n",
    "  <footer>\n",
    "    <small>&copy; 2025 My Mini Site</small>\n",
    "  </footer>\n",
    "</body>\n",
    "</html>\n",
    "```"
   ]
  },
  {
   "cell_type": "markdown",
   "id": "8573ead7",
   "metadata": {},
   "source": [
    "\n",
    "### 📘 Note about styles\n",
    "In Week 1, it’s okay to use **small inline styles** to highlight headings.  \n",
    "From Week 2, you’ll move styles into `<head>` and then into an external `style.css`.\n"
   ]
  },
  {
   "cell_type": "markdown",
   "id": "4c782537",
   "metadata": {},
   "source": [
    "\n",
    "## 🪄 Your Turn — Checklist\n",
    "- [ ] Add at least **two sections** on the homepage with proper headings  \n",
    "- [ ] Add **one image** with meaningful **alt** text  \n",
    "- [ ] Add a working **skip link** to `#main`  \n",
    "- [ ] Build an **accessible table** with caption and scope attributes  \n",
    "- [ ] Link pages both ways: `index.html` ↔ `schedule.html`  \n",
    "- [ ] Add **one HTML comment** near the top of each file  \n",
    "- [ ] Make at least **two commits** and push to GitHub\n"
   ]
  },
  {
   "cell_type": "markdown",
   "id": "eb4189a9",
   "metadata": {},
   "source": [
    "\n",
    "## ⚙️ Git & GitHub\n",
    "Use clear **Conventional Commits** messages, for example:\n",
    "```bash\n",
    "git add .\n",
    "git commit -m \"feat: add semantic homepage with skip link\"\n",
    "git push\n",
    "\n",
    "git add .\n",
    "git commit -m \"feat: add schedule page with accessible table\"\n",
    "git push\n",
    "```\n"
   ]
  },
  {
   "cell_type": "markdown",
   "id": "e31d40c8",
   "metadata": {},
   "source": [
    "\n",
    "## 🖼️ Show Your Result — add a screenshot\n",
    "You can show a screenshot of your page inside this notebook:\n",
    "\n",
    "**Option A — Use the `images/` folder in your repo**\n",
    "1. Save a screenshot (PNG/JPG) into `week1/04-mini-site/images/`  \n",
    "2. Use Markdown to embed it (edit this cell or a new one):\n",
    "\n",
    "```markdown\n",
    "![Screenshot of my homepage](images/my-homepage.png)\n",
    "```\n",
    "\n",
    "**Option B — Drag & drop into this notebook (attachments)**\n",
    "- In Jupyter, create a new Markdown cell and **drag** an image file into it.  \n",
    "  It will embed as an attachment. (This is fine for class submission, but Option A is better for websites.)\n"
   ]
  },
  {
   "cell_type": "markdown",
   "id": "117ddbbd",
   "metadata": {},
   "source": [
    "\n",
    "## 🧠 Reflection (answer here)\n",
    "1) Which semantic tags did you end up using the most, and why?  \n",
    "2) How did `alt` text and table `scope` improve accessibility?  \n",
    "3) What’s one thing you would change or improve next time?  \n",
    "4) What did you learn about how browsers interpret your code?\n"
   ]
  }
 ],
 "metadata": {},
 "nbformat": 4,
 "nbformat_minor": 5
}