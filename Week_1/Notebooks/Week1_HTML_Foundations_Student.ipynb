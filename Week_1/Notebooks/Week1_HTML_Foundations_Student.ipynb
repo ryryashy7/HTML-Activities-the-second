{
 "cells": [
  {
   "cell_type": "markdown",
   "id": "cfd1b01c",
   "metadata": {},
   "source": [
    "# Week 1 — HTML Foundations & GitHub Workflow (Student)"
   ]
  },
  {
   "cell_type": "markdown",
   "id": "193378cf",
   "metadata": {},
   "source": [
    "\n",
    "🧭 **Learning Intentions & Success Criteria**\n",
    "\n",
    "**Learning Intentions**\n",
    "- I can recognise correct HTML structure.\n",
    "- I can build pages using headings, lists, images, and tables.\n",
    "- I can structure a page with semantic HTML.\n",
    "- I can commit and push my work to GitHub.\n",
    "\n",
    "**Success Criteria**\n",
    "- My page displays correctly in a browser.\n",
    "- I can explain why I used specific tags.\n",
    "- I can push my changes to GitHub.\n"
   ]
  },
  {
   "cell_type": "markdown",
   "id": "c041a46d",
   "metadata": {},
   "source": [
    "\n",
    "### 🧰 Setup (read once)\n",
    "Create real files in your repo and preview with **Live Server**.\n",
    "\n",
    "**Folder structure this week:**\n",
    "```\n",
    "week1/\n",
    "  02-html-intro/\n",
    "  03-semantic-structure/\n",
    "```\n",
    "\n",
    "**💻 Preview instructions (every time):**\n",
    "1) Save your file  \n",
    "2) Right-click the file in the Explorer → **Open with Live Server**  \n",
    "3) A browser tab opens with your page\n"
   ]
  },
  {
   "cell_type": "markdown",
   "id": "77427131",
   "metadata": {},
   "source": [
    "## 📘 Section 1 — HTML Essentials (notes)"
   ]
  },
  {
   "cell_type": "markdown",
   "id": "bd266384",
   "metadata": {},
   "source": [
    "\n",
    "HTML = **structure**. Every page has:\n",
    "- `<!DOCTYPE html>` at the top <br>Done</br>\n",
    "- a root `<html lang=\"en\">` <br>Done</br>\n",
    "- a `<head>` for metadata (title, charset…)\n",
    "- a `<body>` for visible content\n"
   ]
  },
  {
   "cell_type": "markdown",
   "id": "d88e9407",
   "metadata": {},
   "source": [
    "### 💻 Code to copy"
   ]
  },
  {
   "cell_type": "markdown",
   "id": "256c487e",
   "metadata": {},
   "source": [
    "```html\n",
    "<!DOCTYPE html>\n",
    "<html lang=\"en\">\n",
    "<head>\n",
    "  <meta charset=\"UTF-8\">\n",
    "  <title>My First Web Page</title>\n",
    "</head>\n",
    "<body>\n",
    "  <h1>Welcome to My First Page</h1>\n",
    "  <p>This page was built using HTML.</p>\n",
    "</body>\n",
    "</html>\n",
    "```"
   ]
  },
  {
   "cell_type": "markdown",
   "id": "247e367b",
   "metadata": {},
   "source": [
    "\n",
    "### 🪄 Your Turn\n",
    "1. Create folder **`week1/02-html-intro/`** and a file **`index.html`**.  \n",
    "2. Paste the code above and **Open with Live Server**.  \n",
    "3. Change the `<title>` to something meaningful.  \n",
    "4. Add another `<p>` describing what you’ll build in this course.\n"
   ]
  },
  {
   "cell_type": "markdown",
   "id": "c9c739cd",
   "metadata": {},
   "source": [
    "\n",
    "### 💬 Check Your Understanding\n",
    "1) What does the `<head>` section do?  It creates a heading with the standard heading style and places it wherever in the code.\n",
    "2) Which part of this page is visible in the browser window?  The text visible is the text that is within the paragraph tag and h1 tag.\n",
    "3) Why do we start with `<!DOCTYPE html>`? It shows the filetype to any person and software.\n"
   ]
  },
  {
   "cell_type": "markdown",
   "id": "6737af52",
   "metadata": {},
   "source": [
    "## 📘 Section 2 — Headings, Lists & Colour (notes)"
   ]
  },
  {
   "cell_type": "markdown",
   "id": "170ee56d",
   "metadata": {},
   "source": [
    "\n",
    "- Use heading levels to show **hierarchy** (only one `<h1>` per page).\n",
    "- Colour formats: **named** (`navy`), **hex** (`#2563eb`), **rgb** (`rgb(37,99,235)`), **hsl** (`hsl(221 83% 53%)`).\n",
    "- We’ll move styling to **external CSS** next week; for now, small inline styles are okay.\n"
   ]
  },
  {
   "cell_type": "markdown",
   "id": "a1fe670e",
   "metadata": {},
   "source": [
    "### 💻 Code to copy (add below your previous content)"
   ]
  },
  {
   "cell_type": "markdown",
   "id": "4a01ce10",
   "metadata": {},
   "source": [
    "```html\n",
    "<h1 style=\"color:#2563eb;\">My Study Tracker</h1>\n",
    "<p style=\"color: rgb(100,116,139);\">\n",
    "  A paragraph with a softer text colour.\n",
    "</p>\n",
    "\n",
    "<h2>Subjects I Am Studying</h2>\n",
    "<ul>\n",
    "  <li>Software Engineering</li>\n",
    "  <li>Mathematics Advanced</li>\n",
    "  <li>English Standard</li>\n",
    "</ul>\n",
    "\n",
    "<h2>Top 3 Study Tips</h2>\n",
    "<ol>\n",
    "  <li>Plan your time.</li>\n",
    "  <li>Work in short focused blocks.</li>\n",
    "  <li>Review your notes often.</li>\n",
    "</ol>\n",
    "```"
   ]
  },
  {
   "cell_type": "markdown",
   "id": "2b4f2ab0",
   "metadata": {},
   "source": [
    "\n",
    "### 🪄 Your Turn\n",
    "- Change at least **one colour** and **one heading**.  Done.\n",
    "- Add a short paragraph explaining **why** you chose those colours.\n",
    "    I Chose blue on white for my heading to add some basic colours while maintaining readability. Blue background and White text is very readable while adding some flair / Aesthetics.\n"
   ]
  },
  {
   "cell_type": "markdown",
   "id": "dbc90121",
   "metadata": {},
   "source": [
    "\n",
    "### 💬 Check Your Understanding\n",
    "1) Why is colour important in web design?  \n",
    "2) How can colour choices affect accessibility?\n"
   ]
  },
  {
   "cell_type": "markdown",
   "id": "b0972311",
   "metadata": {},
   "source": [
    "## 📘 Section 3 — Images & Tables (notes)"
   ]
  },
  {
   "cell_type": "markdown",
   "id": "611735bb",
   "metadata": {},
   "source": [
    "\n",
    "**Images**\n",
    "- Always add **alt** text that says what the image conveys.\n",
    "- Set a reasonable width/height to avoid layout jumps.\n",
    "\n",
    "**Tables**\n",
    "- Tables are for **tabular data**. Use:\n",
    "  - `<caption>`: table title (useful for screen readers)\n",
    "  - `<thead>` and `<tbody>`: header vs body groups\n",
    "  - `<tr>`: row, `<th>`: header cell, `<td>`: data cell\n",
    "  - `scope=\"col\"` for column headers, `scope=\"row\"` for row headers\n"
   ]
  },
  {
   "cell_type": "markdown",
   "id": "029d2bed",
   "metadata": {},
   "source": [
    "### 💻 Code to copy (add under your lists)"
   ]
  },
  {
   "cell_type": "markdown",
   "id": "97921eaf",
   "metadata": {},
   "source": [
    "```html\n",
    "<h2>Image</h2>\n",
    "<img src=\"https://picsum.photos/400/200\"\n",
    "     alt=\"Abstract study-themed image\" width=\"400\" height=\"200\">\n",
    "```"
   ]
  },
  {
   "cell_type": "markdown",
   "id": "1cdaea0d",
   "metadata": {},
   "source": [
    "### 💻 Code to copy (table with basic styles)"
   ]
  },
  {
   "cell_type": "markdown",
   "id": "d88ee6a2",
   "metadata": {},
   "source": [
    "```html\n",
    "<h2>My Weekly Schedule</h2>\n",
    "\n",
    "<table>\n",
    "  <caption>Subjects and teachers by day</caption>\n",
    "  <thead>\n",
    "    <tr>\n",
    "      <th scope=\"col\">Day</th>\n",
    "      <th scope=\"col\">Subject</th>\n",
    "      <th scope=\"col\">Teacher</th>\n",
    "    </tr>\n",
    "  </thead>\n",
    "  <tbody>\n",
    "    <tr>\n",
    "      <th scope=\"row\">Mon</th>\n",
    "      <td>Software Engineering</td>\n",
    "      <td>Mr Lee</td>\n",
    "    </tr>\n",
    "    <tr>\n",
    "      <th scope=\"row\">Tue</th>\n",
    "      <td>Mathematics Advanced</td>\n",
    "      <td>Ms Patel</td>\n",
    "    </tr>\n",
    "  </tbody>\n",
    "</table>\n",
    "\n",
    "<!-- Optional quick styling to see borders -->\n",
    "<style>\n",
    "  table { border-collapse: collapse; }\n",
    "  th, td { border: 1px solid #cbd5e1; padding: 8px 12px; }\n",
    "  thead th { background: #f1f5f9; }\n",
    "  caption { font-weight: bold; margin-bottom: 6px; }\n",
    "</style>\n",
    "```"
   ]
  },
  {
   "cell_type": "markdown",
   "id": "3452ea8f",
   "metadata": {},
   "source": [
    "\n",
    "### 🪄 Your Turn\n",
    "- Extend the table to include **at least three days**.  \n",
    "- Change one subject/teacher to match your timetable.\n"
   ]
  },
  {
   "cell_type": "markdown",
   "id": "674a3feb",
   "metadata": {},
   "source": [
    "\n",
    "### 💬 Check Your Understanding\n",
    "1) What does `<caption>` do?  \n",
    "2) How does `scope=\"col\"` or `scope=\"row\"` help accessibility?  \n",
    "3) Why are `<thead>` and `<tbody>` useful?\n"
   ]
  },
  {
   "cell_type": "markdown",
   "id": "1b71e75e",
   "metadata": {},
   "source": [
    "## 📘 Section 4 — Semantic Structure & Accessibility (notes)"
   ]
  },
  {
   "cell_type": "markdown",
   "id": "774d9461",
   "metadata": {},
   "source": [
    "\n",
    "**Semantic HTML** uses meaningful tags to describe structure: `header`, `nav`, `main`, `footer`, `section`, `article`.\n",
    "\n",
    "- A **skip link** lets keyboard users jump straight to content.  \n",
    "- `aria-label` can add a helpful name to landmarks (e.g. nav).\n"
   ]
  },
  {
   "cell_type": "markdown",
   "id": "6f69745a",
   "metadata": {},
   "source": [
    "### 💻 Code to copy (new file)"
   ]
  },
  {
   "cell_type": "markdown",
   "id": "1c3c44a5",
   "metadata": {},
   "source": [
    "```html\n",
    "<!DOCTYPE html>\n",
    "<html lang=\"en\">\n",
    "<head>\n",
    "  <meta charset=\"UTF-8\">\n",
    "  <title>My Study Planner</title>\n",
    "</head>\n",
    "<body>\n",
    "  <a href=\"#main\" class=\"skip\">Skip to content</a>\n",
    "\n",
    "  <header>\n",
    "    <h1>My Study Planner</h1>\n",
    "    <nav aria-label=\"Primary\">\n",
    "      <a href=\"#home\">Home</a> |\n",
    "      <a href=\"#tasks\">Tasks</a> |\n",
    "      <a href=\"#about\">About</a>\n",
    "    </nav>\n",
    "  </header>\n",
    "\n",
    "  <main id=\"main\">\n",
    "    <section id=\"home\">\n",
    "      <h2>Welcome</h2>\n",
    "      <p>This app will help me track homework and assessments.</p>\n",
    "    </section>\n",
    "  </main>\n",
    "\n",
    "  <footer>\n",
    "    <small>&copy; 2025 My Study Planner</small>\n",
    "  </footer>\n",
    "</body>\n",
    "</html>\n",
    "```"
   ]
  },
  {
   "cell_type": "markdown",
   "id": "0e13155d",
   "metadata": {},
   "source": [
    "\n",
    "### 🪄 Your Turn\n",
    "- Create **`week1/03-semantic-structure/index.html`** and paste the code.  \n",
    "- Add another `<section>` with an `<h2>` and a `<p>`.  \n",
    "- Change the nav links to point to your sections (e.g. `#home`, `#tasks`).  \n",
    "- (Optional) Add **inline colour** to a heading to reinforce colour learning.  \n",
    "- Test **Tab**: Can you reach the skip link first? Does it jump to main content?\n"
   ]
  },
  {
   "cell_type": "markdown",
   "id": "bf77b0b8",
   "metadata": {},
   "source": [
    "\n",
    "### 💬 Check Your Understanding\n",
    "1) What does “semantic HTML” mean?  \n",
    "2) Why add `aria-label` to navigation?  \n",
    "3) What does a skip link help users do?\n"
   ]
  },
  {
   "cell_type": "markdown",
   "id": "8afa452b",
   "metadata": {},
   "source": [
    "### 🪄 Extension Task — HTML Comments"
   ]
  },
  {
   "cell_type": "markdown",
   "id": "b5ed63fc",
   "metadata": {},
   "source": [
    "```html\n",
    "<!-- This section displays the site footer -->\n",
    "<footer>\n",
    "  <small>&copy; 2025 My Study Planner</small>\n",
    "</footer>\n",
    "```"
   ]
  },
  {
   "cell_type": "markdown",
   "id": "e7717534",
   "metadata": {},
   "source": [
    "Add one comment near the top of your file explaining what it contains."
   ]
  },
  {
   "cell_type": "markdown",
   "id": "c8dc03dd",
   "metadata": {},
   "source": [
    "## ⚙️ Section 5 — GitHub Workflow"
   ]
  },
  {
   "cell_type": "markdown",
   "id": "8cbd500e",
   "metadata": {},
   "source": [
    "\n",
    "We use **Git** to track changes and **GitHub** to store and share our code.\n",
    "\n",
    "**Option A — VS Code / Codespaces (GUI)**\n",
    "1. Click the **Source Control** icon (left sidebar).  \n",
    "2. You’ll see your **Changes**.  \n",
    "3. In the message box, write a clear message (see below).  \n",
    "4. Click **Commit** (✔).  \n",
    "5. Click **Sync/Push** (⤴) to send to GitHub.\n",
    "\n",
    "**Option B — Terminal (inside Codespaces/VS Code)**\n"
   ]
  },
  {
   "cell_type": "markdown",
   "id": "3e303c97",
   "metadata": {},
   "source": [
    "```bash\n",
    "git add .\n",
    "git commit -m \"feat: add semantic layout with header/nav/main/footer and skip link\"\n",
    "git push\n",
    "```"
   ]
  },
  {
   "cell_type": "markdown",
   "id": "15ab8933",
   "metadata": {},
   "source": [
    "\n",
    "**What does `feat:` mean?**  \n",
    "We’re using **Conventional Commits**:  \n",
    "- `feat:` new feature  \n",
    "- `fix:` bug fix  \n",
    "- `docs:` documentation change  \n",
    "- `style:` formatting only  \n",
    "- `refactor:` code change that isn’t a feature or fix  \n",
    "- `chore:` housekeeping\n"
   ]
  },
  {
   "cell_type": "markdown",
   "id": "cbf7ed5b",
   "metadata": {},
   "source": [
    "\n",
    "### 💬 Check Your Understanding\n",
    "1) What does `git add .` do?  \n",
    "2) What does `git push` do?  \n",
    "3) Why is a standard like Conventional Commits useful?\n"
   ]
  },
  {
   "cell_type": "markdown",
   "id": "68db0148",
   "metadata": {},
   "source": [
    "\n",
    "## 🧠 Weekly Reflection (answer here in this notebook)\n",
    "1) Which HTML tags are you now confident using, and why?  \n",
    "2) What was the most challenging part this week?  \n",
    "3) How do semantic tags and `alt` text make websites more inclusive?  \n",
    "4) Why is version control important when developing software?\n"
   ]
  },
  {
   "cell_type": "markdown",
   "id": "d43a5cf2",
   "metadata": {},
   "source": [
    "\n",
    "### 🔗 README task (short)\n",
    "Create/Update **`README.md`** in the root of your repo with:\n",
    "- A 2–3 sentence description of what’s in `week1/02-html-intro/` and `week1/03-semantic-structure/`.\n",
    "- One paragraph summarising what you learned this week.\n"
   ]
  },
  {
   "cell_type": "markdown",
   "id": "9ba0518e",
   "metadata": {},
   "source": [
    "\n",
    "## 🔗 Helpful Resources\n",
    "- W3Schools HTML Tutorial — https://www.w3schools.com/html/\n",
    "- MDN HTML Elements Reference — https://developer.mozilla.org/en-US/docs/Web/HTML/Element\n",
    "- W3C Web Accessibility Introduction — https://www.w3.org/WAI/fundamentals/accessibility-intro/\n",
    "- Code.org — How the Internet Works\n",
    "- A Packet’s Tale (YouTube) — how data travels on the internet\n"
   ]
  }
 ],
 "metadata": {
  "language_info": {
   "name": "python"
  }
 },
 "nbformat": 4,
 "nbformat_minor": 5
}
