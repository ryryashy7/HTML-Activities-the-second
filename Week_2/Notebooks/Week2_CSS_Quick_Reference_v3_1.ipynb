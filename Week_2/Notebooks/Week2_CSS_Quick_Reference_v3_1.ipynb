{
 "cells": [
  {
   "cell_type": "markdown",
   "id": "315e1c3c",
   "metadata": {},
   "source": [
    "# 🎨 Week 2 — CSS Quick Reference (v3.1)\n",
    "**Explanations + Patterns + Best Practices**"
   ]
  },
  {
   "cell_type": "markdown",
   "id": "5ee03cac",
   "metadata": {},
   "source": [
    "This guide is part of your **theory**. Each section explains **what** a concept is, **why** we use it, **how** to write it, and an **in‑practice** tip."
   ]
  },
  {
   "cell_type": "markdown",
   "id": "5060636f",
   "metadata": {},
   "source": [
    "## 1) CSS Resets & the Universal Selector"
   ]
  },
  {
   "cell_type": "markdown",
   "id": "30a8ef37",
   "metadata": {},
   "source": [
    "**What:** The universal selector `*` targets **every element**. A 'reset' sets baseline styles so layouts behave predictably across browsers."
   ]
  },
  {
   "cell_type": "markdown",
   "id": "840f1b7e",
   "metadata": {},
   "source": [
    "**Why:** Browsers ship with default margins, paddings, and box models that differ slightly. A reset gives you a **clean, consistent starting point**."
   ]
  },
  {
   "cell_type": "markdown",
   "id": "fde3b99c",
   "metadata": {},
   "source": [
    "**How:**"
   ]
  },
  {
   "cell_type": "markdown",
   "id": "e6a5e8ea",
   "metadata": {},
   "source": [
    "```css\n",
    "* { box-sizing: border-box; }\n",
    "html, body { margin: 0; padding: 0; }\n",
    "```"
   ]
  },
  {
   "cell_type": "markdown",
   "id": "620293c6",
   "metadata": {},
   "source": [
    "**In practice:** Use `box-sizing: border-box` so width/height include padding and border (easier layouts). Reset `margin` and `padding` once at the top of your stylesheet."
   ]
  },
  {
   "cell_type": "markdown",
   "id": "3899ca03",
   "metadata": {},
   "source": [
    "## 2) Ways to Add CSS (when to use which)"
   ]
  },
  {
   "cell_type": "markdown",
   "id": "fe096d43",
   "metadata": {},
   "source": [
    "**Inline** (`style=\"\"`) — *Quick tests only.* Hard to maintain, not reusable."
   ]
  },
  {
   "cell_type": "markdown",
   "id": "a5ca9cac",
   "metadata": {},
   "source": [
    "**Internal** (`<style>` in `<head>`) — Good for a **single** page or demo."
   ]
  },
  {
   "cell_type": "markdown",
   "id": "76f2a02b",
   "metadata": {},
   "source": [
    "**External** (`<link rel=\"stylesheet\" href=\"style.css\">`) — **Best practice** for multi‑page projects: reusable, cacheable, cleaner HTML."
   ]
  },
  {
   "cell_type": "markdown",
   "id": "e619f005",
   "metadata": {},
   "source": [
    "```html\n",
    "<link rel=\"stylesheet\" href=\"style.css\">\n",
    "```"
   ]
  },
  {
   "cell_type": "markdown",
   "id": "b164eab7",
   "metadata": {},
   "source": [
    "**In practice:** Prefer **external CSS** once a page is stable or shared across pages."
   ]
  },
  {
   "cell_type": "markdown",
   "id": "79e43749",
   "metadata": {},
   "source": [
    "## 3) Cascade, Specificity & Source Order (crucial for debugging)"
   ]
  },
  {
   "cell_type": "markdown",
   "id": "9f4eca25",
   "metadata": {},
   "source": [
    "**What:** When multiple rules match, the browser chooses by **specificity** and **source order**."
   ]
  },
  {
   "cell_type": "markdown",
   "id": "d83b24a4",
   "metadata": {},
   "source": [
    "- Element selector (`p`) < Class (`.card`) < ID (`#main`) < Inline (`style=\"\"`)"
   ]
  },
  {
   "cell_type": "markdown",
   "id": "ca155944",
   "metadata": {},
   "source": [
    "- Later rules **win** if specificity is equal."
   ]
  },
  {
   "cell_type": "markdown",
   "id": "acd63730",
   "metadata": {},
   "source": [
    "**Why:** Understanding this prevents “why isn’t my style applying?” confusion."
   ]
  },
  {
   "cell_type": "markdown",
   "id": "e9f2605b",
   "metadata": {},
   "source": [
    "**How:** Prefer classes. Avoid overusing IDs for styling. Keep selectors short and clear."
   ]
  },
  {
   "cell_type": "markdown",
   "id": "5b66bb76",
   "metadata": {},
   "source": [
    "```css\n",
    "p { color: gray; }\n",
    ".note { color: navy; }\n",
    "p.note { color: purple; }\n",
    "```"
   ]
  },
  {
   "cell_type": "markdown",
   "id": "01ddd1ec",
   "metadata": {},
   "source": [
    "**In practice:** If a rule doesn’t apply, check: 1) typo? 2) selector specificity? 3) is a later rule overriding it? 4) DevTools “computed” panel."
   ]
  },
  {
   "cell_type": "markdown",
   "id": "e5a85f23",
   "metadata": {},
   "source": [
    "## 4) Selectors, Classes & IDs (what each is for)"
   ]
  },
  {
   "cell_type": "markdown",
   "id": "4c738abd",
   "metadata": {},
   "source": [
    "**Selector** — targets elements to style.\n",
    "\n",
    "**Class** — reusable styling hook (many elements) → `.card`.\n",
    "\n",
    "**ID** — unique element (one per page) → `#urgent`. Prefer classes for styling; use IDs for anchors or JS hooks."
   ]
  },
  {
   "cell_type": "markdown",
   "id": "76ecf7fc",
   "metadata": {},
   "source": [
    "```css\n",
    "p { color: #334155; }\n",
    ".card { border: 1px solid #e2e8f0; padding: 16px; }\n",
    "#urgent { border-color: #ef4444; }\n",
    "```"
   ]
  },
  {
   "cell_type": "markdown",
   "id": "3c8e5d44",
   "metadata": {},
   "source": [
    "**In practice:** Use classes for components (`.button`, `.card`). Keep IDs for unique, one-off elements or in-page links."
   ]
  },
  {
   "cell_type": "markdown",
   "id": "070ff27d",
   "metadata": {},
   "source": [
    "## 5) `:root` & CSS Variables (Design Tokens)"
   ]
  },
  {
   "cell_type": "markdown",
   "id": "0af9afc5",
   "metadata": {},
   "source": [
    "**What:** Define global **design tokens** once in `:root`, reuse them with `var(--name)`.\n",
    "\n",
    "**Why:** Fast theming, consistent spacing/colours, easier maintenance.\n",
    "\n",
    "**How:**"
   ]
  },
  {
   "cell_type": "markdown",
   "id": "06988f1e",
   "metadata": {},
   "source": [
    "```css\n",
    ":root {\n",
    "  --accent: #2563eb; --bg:#fff; --text:#0f172a;\n",
    "  --muted:#475569; --radius:12px; --spacing:16px; --border:#e2e8f0;\n",
    "}\n",
    "h1 { color: var(--accent); }\n",
    ".card { border-radius: var(--radius); padding: var(--spacing); }\n",
    "```"
   ]
  },
  {
   "cell_type": "markdown",
   "id": "9463dcfa",
   "metadata": {},
   "source": [
    "**In practice:** Need a new theme? Change `--accent` once. Everything updates."
   ]
  },
  {
   "cell_type": "markdown",
   "id": "bd28edc3",
   "metadata": {},
   "source": [
    "## 6) Typography & Spacing Defaults (sane starting point)"
   ]
  },
  {
   "cell_type": "markdown",
   "id": "21d5f4b5",
   "metadata": {},
   "source": [
    "```css\n",
    ":root { --spacing:16px; }\n",
    "body {\n",
    "  font-family: system-ui, -apple-system, Segoe UI, Roboto, Arial, sans-serif;\n",
    "  line-height: 1.6;\n",
    "  padding: var(--spacing);\n",
    "}\n",
    "h1 { margin: 0 0 .5em; }\n",
    "p  { margin: 0 0 1em; }\n",
    "```"
   ]
  },
  {
   "cell_type": "markdown",
   "id": "92f1cfb1",
   "metadata": {},
   "source": [
    "**In practice:** Set base `line-height` and consistent margins to keep pages readable."
   ]
  },
  {
   "cell_type": "markdown",
   "id": "dea67ea1",
   "metadata": {},
   "source": [
    "## 7) Card Component (reusable block)"
   ]
  },
  {
   "cell_type": "markdown",
   "id": "a25cfdd5",
   "metadata": {},
   "source": [
    "**What:** A named pattern for grouping content (padding, border, radius, shadow).\n",
    "\n",
    "**Why:** Reuse across pages with a single class name → consistent UI.\n",
    "\n",
    "**How:**"
   ]
  },
  {
   "cell_type": "markdown",
   "id": "06876dd6",
   "metadata": {},
   "source": [
    "```html\n",
    "<article class=\"card\">\n",
    "  <h2>Homework</h2>\n",
    "  <p>Finish exercises 5–10.</p>\n",
    "</article>\n",
    "```"
   ]
  },
  {
   "cell_type": "markdown",
   "id": "22d82437",
   "metadata": {},
   "source": [
    "```css\n",
    ".card {\n",
    "  background:#fff; border:1px solid #e2e8f0; border-radius:12px;\n",
    "  padding:16px; box-shadow:0 1px 3px rgba(0,0,0,.08);\n",
    "}\n",
    ".card:hover { transform: translateY(-3px); }\n",
    "```"
   ]
  },
  {
   "cell_type": "markdown",
   "id": "f5b7ce84",
   "metadata": {},
   "source": [
    "**In practice:** Add **state** classes like `.is-due-soon` or `.is-muted` to tweak behaviour."
   ]
  },
  {
   "cell_type": "markdown",
   "id": "aa9d01b4",
   "metadata": {},
   "source": [
    "## 8) Grid Layout (responsive by default)"
   ]
  },
  {
   "cell_type": "markdown",
   "id": "bf0e23be",
   "metadata": {},
   "source": [
    "**What:** CSS Grid arranges elements in rows/columns.\n",
    "\n",
    "**Why:** Cleaner than floats/tables; easy responsive layouts.\n",
    "\n",
    "**How:**"
   ]
  },
  {
   "cell_type": "markdown",
   "id": "55a8ed8b",
   "metadata": {},
   "source": [
    "```css\n",
    ".grid {\n",
    "  display: grid;\n",
    "  gap: 16px;\n",
    "  grid-template-columns: repeat(auto-fit, minmax(220px, 1fr));\n",
    "}\n",
    "```"
   ]
  },
  {
   "cell_type": "markdown",
   "id": "5f315a37",
   "metadata": {},
   "source": [
    "**In practice:** `auto-fit + minmax` lets columns collapse/expand with screen size."
   ]
  },
  {
   "cell_type": "markdown",
   "id": "6124c0af",
   "metadata": {},
   "source": [
    "## 9) Media Queries (fine‑tune for small screens)"
   ]
  },
  {
   "cell_type": "markdown",
   "id": "0e2cf085",
   "metadata": {},
   "source": [
    "```css\n",
    "@media (max-width: 600px) {\n",
    "  .card { padding: 12px; }\n",
    "}\n",
    "```"
   ]
  },
  {
   "cell_type": "markdown",
   "id": "c2f6f2f1",
   "metadata": {},
   "source": [
    "**In practice:** Start with a fluid layout; use media queries only where necessary."
   ]
  },
  {
   "cell_type": "markdown",
   "id": "2322a1ca",
   "metadata": {},
   "source": [
    "## 10) Accessibility Essentials (A11y)"
   ]
  },
  {
   "cell_type": "markdown",
   "id": "2785108c",
   "metadata": {},
   "source": [
    "**Contrast:** Ensure text is readable against backgrounds.\n",
    "\n",
    "**Focus:** Make keyboard navigation visible.\n",
    "\n",
    "**Semantics:** Use correct HTML tags (`<nav>`, `<main>`, proper heading order).\n",
    "\n",
    "**How:**"
   ]
  },
  {
   "cell_type": "markdown",
   "id": "fb1f578b",
   "metadata": {},
   "source": [
    "```css\n",
    "a:focus-visible, button:focus-visible {\n",
    "  outline: 3px solid var(--accent);\n",
    "  outline-offset: 2px;\n",
    "}\n",
    "h1, h2 { color:#1e3a8a } /* contrast tweak example */\n",
    "```"
   ]
  },
  {
   "cell_type": "markdown",
   "id": "d1f439fd",
   "metadata": {},
   "source": [
    "**In practice:** Use **Lighthouse** to find a11y issues and record fixes in comments."
   ]
  },
  {
   "cell_type": "markdown",
   "id": "0f70c52b",
   "metadata": {},
   "source": [
    "## 11) Chrome DevTools & Lighthouse (diagnose, measure, fix)"
   ]
  },
  {
   "cell_type": "markdown",
   "id": "159e7b5a",
   "metadata": {},
   "source": [
    "**DevTools:** Inspect elements, view applied rules and computed styles.\n",
    "\n",
    "**Lighthouse:** Audits **Performance**, **Accessibility**, **Best Practices**, **SEO** and suggests fixes."
   ]
  },
  {
   "cell_type": "markdown",
   "id": "59ff1e9c",
   "metadata": {},
   "source": [
    "## 12) Git: Conventional Commits (document your changes)"
   ]
  },
  {
   "cell_type": "markdown",
   "id": "a27ac218",
   "metadata": {},
   "source": [
    "```bash\n",
    "git add .\n",
    "git commit -m \"feat: build card component and responsive grid\"\n",
    "git commit -m \"fix: improve contrast and focus after lighthouse\"\n",
    "git push\n",
    "```"
   ]
  },
  {
   "cell_type": "markdown",
   "id": "ae2b7adb",
   "metadata": {},
   "source": [
    "**In practice:** Start messages with `feat:` (new feature), `fix:` (bug), `style:` (formatting), `docs:` (documentation)."
   ]
  },
  {
   "cell_type": "markdown",
   "id": "76a4c1d4",
   "metadata": {},
   "source": [
    "##Resource\n",
    "\n",
    "W3Schools - https://www.w3schools.com/css/default.asp\n"
   ]
  }
 ],
 "metadata": {
  "language_info": {
   "name": "python"
  }
 },
 "nbformat": 4,
 "nbformat_minor": 5
}
