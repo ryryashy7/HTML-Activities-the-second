{
 "cells": [
  {
   "cell_type": "markdown",
   "id": "5d4a41e0",
   "metadata": {},
   "source": [
    "# 🎨 Week 2 — CSS Practical (Student, v3.1)\n",
    "**Inline → Internal → External CSS · `:root` variables · Classes vs IDs · Card · Grid · Lighthouse**"
   ]
  },
  {
   "cell_type": "markdown",
   "id": "ffc7ac8d",
   "metadata": {},
   "source": [
    "> ### 📘 How to use this notebook\n",
    "> Each section = **Notes → Code → 🪄 Your Turn → 💬 Check**. Keep each mini‑project in its **own folder** so the page links the right `style.css`."
   ]
  },
  {
   "cell_type": "markdown",
   "id": "15087431",
   "metadata": {},
   "source": [
    "### 🧭 Learning Intentions\n",
    "- Use **inline**, **internal**, and **external** CSS appropriately.\n",
    "- Explain and use **classes vs IDs**, and define tokens in **`:root`**.\n",
    "- Build a **card**, arrange cards in a **responsive grid**, and improve **accessibility**."
   ]
  },
  {
   "cell_type": "markdown",
   "id": "e83f4d36",
   "metadata": {},
   "source": [
    "### ✅ Success Criteria\n",
    "- Working examples of all three CSS approaches.\n",
    "- Reusable **classes**, unique **IDs**, themed via **design tokens**.\n",
    "- Grid adapts on mobile; at least one **Lighthouse** issue fixed."
   ]
  },
  {
   "cell_type": "markdown",
   "id": "3fa3ff18",
   "metadata": {},
   "source": [
    "## 1) Inline CSS — quickest demo (use sparingly)"
   ]
  },
  {
   "cell_type": "markdown",
   "id": "b7014206",
   "metadata": {},
   "source": [
    "### 📘 Notes\n",
    "**Inline CSS** uses the `style` attribute. **Pros:** fast demo. **Cons:** not reusable; clutters HTML."
   ]
  },
  {
   "cell_type": "markdown",
   "id": "d8361db4",
   "metadata": {},
   "source": [
    "### 💻 Code — create **`week2/01-inline-css/index.html`**"
   ]
  },
  {
   "cell_type": "markdown",
   "id": "60739d9b",
   "metadata": {},
   "source": [
    "```html\n",
    "<!DOCTYPE html>\n",
    "<html lang=\"en\">\n",
    "<head>\n",
    "  <meta charset=\"UTF-8\">\n",
    "  <meta name=\"viewport\" content=\"width=device-width, initial-scale=1.0\">\n",
    "  <title>Inline CSS Demo</title>\n",
    "</head>\n",
    "<body>\n",
    "  <h1 style=\"color:#2563eb; font-family:system-ui; margin-bottom:8px;\">My Study Planner (Inline)</h1>\n",
    "  <p style=\"color:#475569;\">Inline CSS puts styles on the element via the <code>style</code> attribute.</p>\n",
    "  <a href=\"#\" style=\"color:#2563eb; text-decoration:none;\">A sample link</a>\n",
    "</body>\n",
    "</html>\n",
    "```"
   ]
  },
  {
   "cell_type": "markdown",
   "id": "61618a3d",
   "metadata": {},
   "source": [
    "### 🪄 Your Turn\n",
    "- Change the heading colour.\n",
    "- Make the link **bold** with `font-weight:bold`.\n",
    "- One sentence: **Why isn’t inline ideal for big projects?**"
   ]
  },
  {
   "cell_type": "markdown",
   "id": "cf9d9219",
   "metadata": {},
   "source": [
    "### 💬 Check\n",
    "Explain the **trade‑offs** of inline CSS."
   ]
  },
  {
   "cell_type": "markdown",
   "id": "ddbcfdb2",
   "metadata": {},
   "source": [
    "## 2) Internal CSS — `<style>` in the `<head>` (good for single pages)"
   ]
  },
  {
   "cell_type": "markdown",
   "id": "4392f3c9",
   "metadata": {},
   "source": [
    "### 📘 Notes\n",
    "Rules live inside a `<style>` tag in the document `<head>`. Better than inline for a single page; still page‑local."
   ]
  },
  {
   "cell_type": "markdown",
   "id": "736391d1",
   "metadata": {},
   "source": [
    "### 💻 Code — create **`week2/02-internal-css/index.html`**"
   ]
  },
  {
   "cell_type": "markdown",
   "id": "a755f9e3",
   "metadata": {},
   "source": [
    "```html\n",
    "<!DOCTYPE html>\n",
    "<html lang=\"en\">\n",
    "<head>\n",
    "  <meta charset=\"UTF-8\">\n",
    "  <meta name=\"viewport\" content=\"width=device-width, initial-scale=1.0\">\n",
    "  <title>Internal CSS Demo</title>\n",
    "  <style>\n",
    "    * { box-sizing: border-box; }\n",
    "    html, body { margin: 0; }\n",
    "    body { font-family: system-ui, -apple-system, Segoe UI, Roboto, Arial, sans-serif; padding: 16px; background:#f8fafc; color:#0f172a; }\n",
    "    h1 { color:#2563eb; margin-bottom: 8px; }\n",
    "    a  { color:#2563eb; text-decoration:none; }\n",
    "    a:hover { text-decoration: underline; }\n",
    "  </style>\n",
    "</head>\n",
    "<body>\n",
    "  <h1>My Study Planner (Internal)</h1>\n",
    "  <p>These styles live in a <code>&lt;style&gt;</code> tag inside the page head.</p>\n",
    "  <a href=\"#\">A sample link</a>\n",
    "</body>\n",
    "</html>\n",
    "```"
   ]
  },
  {
   "cell_type": "markdown",
   "id": "506e60ac",
   "metadata": {},
   "source": [
    "### 🪄 Your Turn\n",
    "- Make `<p>` text **italic**. ✔\n",
    "- Change body `background` to `#f1f5f9`. ✔\n",
    "- Short note: **When would you pick internal over inline?** Internal is very helpful when styling the whole website, as it allows a person to style it without having to rewrite styling."
   ]
  },
  {
   "cell_type": "markdown",
   "id": "cbf18445",
   "metadata": {},
   "source": [
    "### 💬 Check\n",
    "Where do internal CSS rules live and **why** might you move them to a separate file later?"
   ]
  },
  {
   "cell_type": "markdown",
   "id": "72ce6b6b",
   "metadata": {},
   "source": [
    "## 3) External CSS — best for multi‑page sites"
   ]
  },
  {
   "cell_type": "markdown",
   "id": "f6a50c6c",
   "metadata": {},
   "source": [
    "### 📘 Notes\n",
    "Put CSS in **`style.css`** and link it from `<head>`. Reusable, cleaner, and cacheable."
   ]
  },
  {
   "cell_type": "markdown",
   "id": "b5737b46",
   "metadata": {},
   "source": [
    "### 📁 Recommended structure"
   ]
  },
  {
   "cell_type": "markdown",
   "id": "4d2fa21e",
   "metadata": {},
   "source": [
    "```text\n",
    "your-repo/\n",
    "└─ week2/\n",
    "   └─ 03-external-css/\n",
    "      ├─ index.html\n",
    "      └─ style.css\n",
    "```"
   ]
  },
  {
   "cell_type": "markdown",
   "id": "14c950eb",
   "metadata": {},
   "source": [
    "### 💻 Code — create **`week2/03-external-css/index.html`**"
   ]
  },
  {
   "cell_type": "markdown",
   "id": "c70bc710",
   "metadata": {},
   "source": [
    "```html\n",
    "<!DOCTYPE html>\n",
    "<html lang=\"en\">\n",
    "<head>\n",
    "  <meta charset=\"UTF-8\">\n",
    "  <meta name=\"viewport\" content=\"width=device-width, initial-scale=1.0\">\n",
    "  <title>External CSS Demo</title>\n",
    "  <link rel=\"stylesheet\" href=\"style.css\">\n",
    "</head>\n",
    "<body>\n",
    "  <header>\n",
    "    <h1>My Study Planner (External)</h1>\n",
    "    <nav><a href=\"#\">Home</a> · <a href=\"#\">Subjects</a> · <a href=\"#\">Goals</a></nav>\n",
    "  </header>\n",
    "  <main>\n",
    "    <p>This page reads its styles from <code>style.css</code>.</p>\n",
    "  </main>\n",
    "</body>\n",
    "</html>\n",
    "```"
   ]
  },
  {
   "cell_type": "markdown",
   "id": "90c8111c",
   "metadata": {},
   "source": [
    "### 💻 Code — create **`week2/03-external-css/style.css`**"
   ]
  },
  {
   "cell_type": "markdown",
   "id": "0fbc0bff",
   "metadata": {},
   "source": [
    "```css\n",
    "* { box-sizing: border-box; }\n",
    "html, body { margin: 0; }\n",
    "body {\n",
    "  font-family: system-ui, -apple-system, Segoe UI, Roboto, Arial, sans-serif;\n",
    "  background: #f8fafc;\n",
    "  color: #0f172a;\n",
    "  line-height: 1.6;\n",
    "  padding: 16px;\n",
    "}\n",
    "header { margin-bottom: 12px; }\n",
    "h1 { color: #2563eb; }\n",
    "a { color: #2563eb; text-decoration: none; }\n",
    "a:hover { text-decoration: underline; }\n",
    "```"
   ]
  },
  {
   "cell_type": "markdown",
   "id": "b49819f8",
   "metadata": {},
   "source": [
    "### 🪄 Your Turn\n",
    "- Space `nav a` with `margin-right`.\n",
    "- Add a `footer` with muted text.\n",
    "- **Commit:** `feat: add external CSS and base styles`"
   ]
  },
  {
   "cell_type": "markdown",
   "id": "cc1ad986",
   "metadata": {},
   "source": [
    "### 💬 Check\n",
    "Why is external CSS considered **best practice**? Give two reasons."
   ]
  },
  {
   "cell_type": "markdown",
   "id": "046dca82",
   "metadata": {},
   "source": [
    "## 4) `:root` variables — design tokens for theme control"
   ]
  },
  {
   "cell_type": "markdown",
   "id": "42e5375b",
   "metadata": {},
   "source": [
    "### 📘 Notes\n",
    "Define colour, spacing, radius in `:root`, reuse with `var(--name)`."
   ]
  },
  {
   "cell_type": "markdown",
   "id": "954de156",
   "metadata": {},
   "source": [
    "### 💻 Code — replace **`week2/03-external-css/style.css`** with:"
   ]
  },
  {
   "cell_type": "markdown",
   "id": "7a1fed90",
   "metadata": {},
   "source": [
    "```css\n",
    ":root {\n",
    "  --accent: #2563eb;\n",
    "  --bg: #ffffff;\n",
    "  --text: #0f172a;\n",
    "  --muted: #475569;\n",
    "  --radius: 12px;\n",
    "  --spacing: 16px;\n",
    "  --border: #e2e8f0;\n",
    "}\n",
    "\n",
    "* { box-sizing: border-box; }\n",
    "html, body { margin: 0; }\n",
    "body {\n",
    "  font-family: system-ui, -apple-system, Segoe UI, Roboto, Arial, sans-serif;\n",
    "  background: #f8fafc;\n",
    "  color: var(--text);\n",
    "  line-height: 1.6;\n",
    "  padding: var(--spacing);\n",
    "}\n",
    "\n",
    "h1 { color: var(--accent); }\n",
    "a { color: var(--accent); text-decoration: none; }\n",
    "a:hover { text-decoration: underline; }\n",
    "```"
   ]
  },
  {
   "cell_type": "markdown",
   "id": "156ee357",
   "metadata": {},
   "source": [
    "### 🪄 Your Turn\n",
    "- Change `--accent` to a new colour.\n",
    "- Add `--radius` to future components."
   ]
  },
  {
   "cell_type": "markdown",
   "id": "ae1b07f4",
   "metadata": {},
   "source": [
    "### 💬 Check\n",
    "How do variables make larger sites easier to maintain?"
   ]
  },
  {
   "cell_type": "markdown",
   "id": "e705c131",
   "metadata": {},
   "source": [
    "## 5) Classes vs IDs · Card component"
   ]
  },
  {
   "cell_type": "markdown",
   "id": "2d44a740",
   "metadata": {},
   "source": [
    "### 📘 Notes\n",
    "**Class** = reusable style (e.g., `.card`). **ID** = unique element (`#urgent`). A **card** is a reusable block (padding, border, radius, shadow)."
   ]
  },
  {
   "cell_type": "markdown",
   "id": "0d4e317d",
   "metadata": {},
   "source": [
    "### 📁 Structure"
   ]
  },
  {
   "cell_type": "markdown",
   "id": "254a2989",
   "metadata": {},
   "source": [
    "```text\n",
    "week2/\n",
    "└─ 05-card-and-ids/\n",
    "   ├─ index.html\n",
    "   └─ style.css\n",
    "```"
   ]
  },
  {
   "cell_type": "markdown",
   "id": "bfb23141",
   "metadata": {},
   "source": [
    "### 💻 Code — `week2/05-card-and-ids/index.html`"
   ]
  },
  {
   "cell_type": "markdown",
   "id": "b04bfbb6",
   "metadata": {},
   "source": [
    "```html\n",
    "<!DOCTYPE html>\n",
    "<html lang=\"en\">\n",
    "<head>\n",
    "  <meta charset=\"UTF-8\" />\n",
    "  <meta name=\"viewport\" content=\"width=device-width, initial-scale=1.0\" />\n",
    "  <title>Cards & IDs</title>\n",
    "  <link rel=\"stylesheet\" href=\"style.css\" />\n",
    "</head>\n",
    "<body>\n",
    "  <header><h1>Cards & IDs</h1></header>\n",
    "  <main>\n",
    "    <article class=\"card\">\n",
    "      <h2>Homework</h2>\n",
    "      <p>Read chapter 3 and complete exercises.</p>\n",
    "    </article>\n",
    "\n",
    "    <article class=\"card highlight\" id=\"urgent\">\n",
    "      <h2>Assessment</h2>\n",
    "      <p>Task 1 draft due Friday.</p>\n",
    "    </article>\n",
    "  </main>\n",
    "</body>\n",
    "</html>\n",
    "```"
   ]
  },
  {
   "cell_type": "markdown",
   "id": "533380fb",
   "metadata": {},
   "source": [
    "### 💻 Code — `week2/05-card-and-ids/style.css`"
   ]
  },
  {
   "cell_type": "markdown",
   "id": "ba66bdf7",
   "metadata": {},
   "source": [
    "```css\n",
    ":root {\n",
    "  --accent: #2563eb; --bg:#fff; --text:#0f172a; --muted:#475569;\n",
    "  --radius: 12px; --spacing: 16px; --border: #e2e8f0;\n",
    "}\n",
    "\n",
    "body { font-family: system-ui, sans-serif; background:#f8fafc; color:var(--text); padding:var(--spacing); }\n",
    "p { color: var(--muted); }\n",
    "\n",
    ".card {\n",
    "  background: var(--bg);\n",
    "  border: 1px solid var(--border);\n",
    "  border-radius: var(--radius);\n",
    "  padding: var(--spacing);\n",
    "  margin-bottom: var(--spacing);\n",
    "  max-width: 60ch;\n",
    "  box-shadow: 0 1px 2px rgba(0,0,0,.06);\n",
    "}\n",
    "\n",
    ".highlight { border-color: var(--accent); }\n",
    "#urgent h2 { color: var(--accent); }\n",
    "\n",
    ".button {\n",
    "  display:inline-block; margin-top:8px; padding:8px 12px;\n",
    "  background: var(--accent); color:#fff; border-radius:8px; text-decoration:none;\n",
    "}\n",
    ".button:focus-visible { outline:3px solid #1e3a8a; outline-offset:2px; }\n",
    "```"
   ]
  },
  {
   "cell_type": "markdown",
   "id": "56a2fab1",
   "metadata": {},
   "source": [
    "### 🪄 Your Turn\n",
    "- Add a `.button` link in **each** card.\n",
    "- Add a third `.card` named **Goals**.\n",
    "- Why use **classes** for cards and an **ID** for the urgent one?"
   ]
  },
  {
   "cell_type": "markdown",
   "id": "74253170",
   "metadata": {},
   "source": [
    "### 💬 Check\n",
    "Define a **class** and an **ID** in one sentence each."
   ]
  },
  {
   "cell_type": "markdown",
   "id": "0e900896",
   "metadata": {},
   "source": [
    "## 6) Responsive grid — arrange cards that adapt to screen size"
   ]
  },
  {
   "cell_type": "markdown",
   "id": "ec419d24",
   "metadata": {},
   "source": [
    "### 📘 Notes\n",
    "Use `repeat(auto-fit, minmax(220px, 1fr))` so columns adjust automatically."
   ]
  },
  {
   "cell_type": "markdown",
   "id": "caa60ce6",
   "metadata": {},
   "source": [
    "### 📁 Structure"
   ]
  },
  {
   "cell_type": "markdown",
   "id": "541356e3",
   "metadata": {},
   "source": [
    "```text\n",
    "week2/\n",
    "└─ 06-grid/\n",
    "   ├─ index.html\n",
    "   └─ style.css\n",
    "```"
   ]
  },
  {
   "cell_type": "markdown",
   "id": "0e7f6931",
   "metadata": {},
   "source": [
    "### 💻 Code — `week2/06-grid/index.html`"
   ]
  },
  {
   "cell_type": "markdown",
   "id": "f6fb8937",
   "metadata": {},
   "source": [
    "```html\n",
    "<!DOCTYPE html>\n",
    "<html lang=\"en\">\n",
    "<head>\n",
    "  <meta charset=\"UTF-8\" />\n",
    "  <meta name=\"viewport\" content=\"width=device-width, initial-scale=1.0\" />\n",
    "  <title>Responsive Grid</title>\n",
    "  <link rel=\"stylesheet\" href=\"style.css\" />\n",
    "</head>\n",
    "<body>\n",
    "  <header><h1>Subjects Grid</h1></header>\n",
    "  <main class=\"grid\">\n",
    "    <article class=\"card\"><h2>Software Eng</h2><p>Plan app routes</p></article>\n",
    "    <article class=\"card\"><h2>Maths</h2><p>Revise chapter 4</p></article>\n",
    "    <article class=\"card\"><h2>English</h2><p>Draft essay</p></article>\n",
    "    <article class=\"card\"><h2>Science</h2><p>Complete prac</p></article>\n",
    "    <article class=\"card\"><h2>History</h2><p>Timeline research</p></article>\n",
    "    <article class=\"card\"><h2>Biology</h2><p>Revise cell structure</p></article>\n",
    "  </main>\n",
    "</body>\n",
    "</html>\n",
    "```"
   ]
  },
  {
   "cell_type": "markdown",
   "id": "cf4b40ad",
   "metadata": {},
   "source": [
    "### 💻 Code — `week2/06-grid/style.css`"
   ]
  },
  {
   "cell_type": "markdown",
   "id": "fc3f3b4e",
   "metadata": {},
   "source": [
    "```css\n",
    ":root { --accent:#2563eb; --bg:#fff; --text:#0f172a; --radius:12px; --spacing:16px; --border:#e2e8f0; }\n",
    "* { box-sizing: border-box; } html, body { margin: 0; }\n",
    "body { font-family: system-ui, sans-serif; background:#f8fafc; color:var(--text); }\n",
    "\n",
    ".grid {\n",
    "  display: grid;\n",
    "  gap: var(--spacing);\n",
    "  padding: var(--spacing);\n",
    "  grid-template-columns: repeat(auto-fit, minmax(220px, 1fr));\n",
    "}\n",
    "\n",
    ".card {\n",
    "  background: var(--bg);\n",
    "  border: 1px solid var(--border);\n",
    "  border-radius: var(--radius);\n",
    "  padding: var(--spacing);\n",
    "  box-shadow: 0 1px 3px rgba(0,0,0,.08);\n",
    "  transition: transform .2s;\n",
    "}\n",
    ".card:hover { transform: translateY(-3px); }\n",
    "\n",
    "@media (max-width: 480px) {\n",
    "  .card { padding: 12px; }\n",
    "}\n",
    "```"
   ]
  },
  {
   "cell_type": "markdown",
   "id": "db2a7745",
   "metadata": {},
   "source": [
    "### 🪄 Your Turn\n",
    "- Add 2–3 more cards.\n",
    "- Make one card span two columns on wide screens (use `grid-column`).\n",
    "- **Commit:** `feat: build responsive card grid with tokens`"
   ]
  },
  {
   "cell_type": "markdown",
   "id": "5eddc41b",
   "metadata": {},
   "source": [
    "### 💬 Check\n",
    "Explain why `auto-fit` with `minmax` creates a **flexible** grid."
   ]
  },
  {
   "cell_type": "markdown",
   "id": "430c1b0a",
   "metadata": {},
   "source": [
    "## 7) 🔎 Lighthouse — audit and improve"
   ]
  },
  {
   "cell_type": "markdown",
   "id": "0f9bed6b",
   "metadata": {},
   "source": [
    "1) Open with **Live Server** → DevTools → **Lighthouse**.\n",
    "2) Run Desktop or Mobile.\n",
    "3) Fix **one** issue (contrast, alt, focus). Add a code **comment** explaining the fix.\n",
    "4) **Commit:** `fix: improve accessibility based on Lighthouse audit`"
   ]
  },
  {
   "cell_type": "markdown",
   "id": "b3eafcd0",
   "metadata": {},
   "source": [
    "## ⚙️ Git recap"
   ]
  },
  {
   "cell_type": "markdown",
   "id": "7516adb7",
   "metadata": {},
   "source": [
    "```bash\n",
    "git add .\n",
    "git commit -m \"feat: external CSS, tokens, card, responsive grid\"\n",
    "git commit -m \"fix: improve accessibility (Lighthouse)\"\n",
    "git push\n",
    "```"
   ]
  },
  {
   "cell_type": "markdown",
   "id": "9888c34f",
   "metadata": {},
   "source": [
    "## 🧠 Reflection\n",
    "- Internal vs external CSS — when and why?\n",
    "- What did **`:root` variables** help you standardise?\n",
    "- Which Lighthouse issue did you fix and why does it matter?"
   ]
  }
 ],
 "metadata": {
  "language_info": {
   "name": "python"
  }
 },
 "nbformat": 4,
 "nbformat_minor": 5
}
